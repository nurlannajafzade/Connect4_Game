{
  "nbformat": 4,
  "nbformat_minor": 0,
  "metadata": {
    "colab": {
      "name": "Connect4 Game",
      "provenance": []
    },
    "kernelspec": {
      "name": "python3",
      "display_name": "Python 3"
    }
  },
  "cells": [
    {
      "cell_type": "code",
      "metadata": {
        "colab": {
          "base_uri": "https://localhost:8080/"
        },
        "id": "c6mVkUF15gpO",
        "outputId": "a71b7d78-adac-48c1-e3a8-66c380cd5056"
      },
      "source": [
        "import numpy as np\n",
        "\n",
        "def personal_details():\n",
        "    print(\"Programmed by Nurlan Najafzada\")\n",
        "    print(\"UFAZ, 12 December 2020\")\n",
        "personal_details()\n",
        "\n",
        "print(\"\\n\")\n",
        "print(\"Connect 4 Game\")\n",
        "print(\"\\n\")\n",
        "\n",
        "ROW_COUNT = 6\n",
        "COLUMN_COUNT = 7\n",
        "\n",
        "def create_board():\n",
        "    board = np.zeros((6,7))\n",
        "    return board\n",
        "\n",
        "def drop_piece(board, row, col, piece):\n",
        "    board[row][col] = piece\n",
        "\n",
        "def is_valid_location(board, col):\n",
        "    return board[5][col] == 0\n",
        "\n",
        "def get_next_open_row(board, col):\n",
        "    for r in range(ROW_COUNT):\n",
        "        if board[r][col] == 0:\n",
        "            return r\n",
        "def print_board(board):\n",
        "    print(np.flip(board, 0))\n",
        "\n",
        "board = create_board()\n",
        "print(board)\n",
        "game_over = False\n",
        "turn = 0\n",
        "\n",
        "while not game_over:\n",
        "  \n",
        "  # ask for player 1 input\n",
        "  if turn == 0:\n",
        "      col = int(input(\"Player 1 Turn:\"))\n",
        "\n",
        "      if is_valid_location(board, col):\n",
        "          row = get_next_open_row(board, col)\n",
        "          drop_piece(board, row, col, 1)\n",
        "\n",
        "  # ask for player 2 input\n",
        "  else:\n",
        "      col = int(input(\"Player 2 Turn:\"))\n",
        "\n",
        "      if is_valid_location(board, col):\n",
        "          row = get_next_open_row(board, col)\n",
        "          drop_piece(board, row, col, 2)\n",
        "\n",
        "  print_board(board)\n",
        "\n",
        "  turn += 1\n",
        "  turn = turn % 2"
      ],
      "execution_count": null,
      "outputs": [
        {
          "output_type": "stream",
          "text": [
            "Programmed by Nurlan Najafzada\n",
            "UFAZ, 12 December 2020\n",
            "\n",
            "\n",
            "Connect 4 Game\n",
            "\n",
            "\n",
            "[[0. 0. 0. 0. 0. 0. 0.]\n",
            " [0. 0. 0. 0. 0. 0. 0.]\n",
            " [0. 0. 0. 0. 0. 0. 0.]\n",
            " [0. 0. 0. 0. 0. 0. 0.]\n",
            " [0. 0. 0. 0. 0. 0. 0.]\n",
            " [0. 0. 0. 0. 0. 0. 0.]]\n"
          ],
          "name": "stdout"
        }
      ]
    }
  ]
}